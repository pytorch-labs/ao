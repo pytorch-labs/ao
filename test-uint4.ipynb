{
 "cells": [
  {
   "cell_type": "code",
   "execution_count": 4,
   "metadata": {},
   "outputs": [],
   "source": [
    "import torch\n",
    "import torch._prims_common as utils\n",
    "import torch.utils._pytree as pytree\n",
    "from torch.library import impl, Library\n",
    "from functools import reduce\n",
    "import lovely_tensors as lt\n",
    "lt.monkey_patch()"
   ]
  },
  {
   "cell_type": "code",
   "execution_count": 74,
   "metadata": {},
   "outputs": [],
   "source": [
    "def unpack_uint4(uint_data) -> torch.Tensor:\n",
    "    \"\"\"Get the original weight from the normalized float weight format\"\"\"\n",
    "    # since we are using uint8 we will decode 2 entries per byte\n",
    "    # Shift elements down 4 and select out the bottom 4 bits\n",
    "    shape = uint_data.shape\n",
    "    scale = uint_data.element_size() * 8 // 4 # how many uint4s can fit in a dtype_size\n",
    "    unpacked_data = torch.empty((*shape, scale), dtype=uint_data.dtype)\n",
    "    for i in range(scale):\n",
    "        unpacked_data[..., i] = (uint_data >> int(uint_data.element_size()*8- 4*(i+1))) & 0b1111\n",
    "    return unpacked_data.view(up_size(shape, scale))\n",
    "\n",
    "\n",
    "def pack_uint4(uint_data, dtype_size=8) -> torch.Tensor:\n",
    "    # converting to uint8 for operations\n",
    "    scale = dtype_size // 4 # how many uint4s can fit in a dtype_size\n",
    "    padding = torch.zeros((*uint_data.shape[:-1], (scale - uint_data.shape[-1] % scale)%scale), dtype=uint_data.dtype)\n",
    "    uint_data = torch.cat([uint_data, padding], dim=-1)\n",
    "    shape = uint_data.shape\n",
    "    uint_data = uint_data.contiguous().view(-1)\n",
    "    return reduce(lambda x,y: x|y,[uint_data[i::scale] << dtype_size-4*(i+1) for i in range(scale)]).view(down_size(shape, scale))\n",
    "\n",
    "def down_size(size, amt):\n",
    "    assert size[-1] % amt == 0, f\"{size} last dim not divisible by {amt}\"\n",
    "    return (*size[:-1], size[-1] // amt)\n",
    "\n",
    "\n",
    "def up_size(size, amt):\n",
    "    return (*size[:-1], size[-1] * amt)"
   ]
  },
  {
   "cell_type": "code",
   "execution_count": 81,
   "metadata": {},
   "outputs": [],
   "source": [
    "test_tensor = torch.randint(0, 3, (8, 8, 7), dtype=torch.uint8)\n",
    "# print('og', test_tensor)\n",
    "packed = pack_uint4(test_tensor)\n",
    "# print('packed', packed)\n",
    "unpacked = unpack_uint4(packed)\n",
    "# print('unpacked', unpacked)\n",
    "unpadded = unpacked[..., :test_tensor.shape[-1]]\n",
    "assert(unpadded.allclose(test_tensor))\n",
    "\n",
    "test_tensor = torch.randint(0, 3, (5,1, 4), dtype=torch.int16)\n",
    "# print('og', test_tensor)\n",
    "packed = pack_uint4(test_tensor,16)\n",
    "# print('packed', packed)\n",
    "unpacked = unpack_uint4(packed)\n",
    "# print('unpacked', unpacked)\n",
    "unpadded = unpacked[..., :test_tensor.shape[-1]]\n",
    "assert(unpadded.allclose(test_tensor))\n",
    "\n",
    "test_tensor = torch.randint(0, 3, (3,1, 9), dtype=torch.int32)\n",
    "# print('og', test_tensor)\n",
    "packed = pack_uint4(test_tensor,32)\n",
    "# print('packed', packed)\n",
    "unpacked = unpack_uint4(packed)\n",
    "# print('unpacked', unpacked)\n",
    "unpadded = unpacked[..., :test_tensor.shape[-1]]\n",
    "assert(unpadded.allclose(test_tensor))"
   ]
  },
  {
   "cell_type": "code",
   "execution_count": null,
   "metadata": {},
   "outputs": [],
   "source": []
  }
 ],
 "metadata": {
  "kernelspec": {
   "display_name": "env",
   "language": "python",
   "name": "python3"
  },
  "language_info": {
   "codemirror_mode": {
    "name": "ipython",
    "version": 3
   },
   "file_extension": ".py",
   "mimetype": "text/x-python",
   "name": "python",
   "nbconvert_exporter": "python",
   "pygments_lexer": "ipython3",
   "version": "3.9.7"
  }
 },
 "nbformat": 4,
 "nbformat_minor": 2
}
